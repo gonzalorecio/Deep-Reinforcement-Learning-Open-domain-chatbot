{
 "cells": [
  {
   "cell_type": "markdown",
   "metadata": {},
   "source": [
    "# Chatbot "
   ]
  },
  {
   "cell_type": "markdown",
   "metadata": {},
   "source": [
    "Web-based interface of the chatbot interface: https://gonzalorecio.com/chatbot/robot.html"
   ]
  },
  {
   "cell_type": "code",
   "execution_count": 42,
   "metadata": {},
   "outputs": [],
   "source": [
    "import requests\n",
    "URL_INTERFACE = 'https://gonzalorecio.com/chatbot/robot.html'"
   ]
  },
  {
   "cell_type": "code",
   "execution_count": 43,
   "metadata": {},
   "outputs": [],
   "source": [
    "class ChatbotFace:\n",
    "    chatbot_mood_API   = 'https://chatbot-mood.herokuapp.com/mood'\n",
    "    chatbot_status_API = 'https://chatbot-mood.herokuapp.com/internal_state'\n",
    "\n",
    "    def change_mood(self, mood):\n",
    "        req_obj = {'action': mood}\n",
    "        x = requests.post(self.chatbot_mood_API, data = req_obj)\n",
    "        # print(x)\n",
    "        \n",
    "    def change_status(self, status):\n",
    "        req_obj = {'status': status}\n",
    "        x = requests.post(self.chatbot_status_API, data = req_obj)\n",
    "        \n",
    "    def neutral(self):\n",
    "        self.change_mood('neutral')\n",
    "        \n",
    "    def happy(self):\n",
    "        self.change_mood('happy')\n",
    "        \n",
    "    def sad(self):\n",
    "        self.change_mood('sad')\n",
    "        \n",
    "    def angry(self):\n",
    "        self.change_mood('angry')\n",
    "        \n",
    "    def focused(self):\n",
    "        self.change_mood('focused')\n",
    "        \n",
    "    def confused(self):\n",
    "        self.change_mood('confused')\n",
    "    \n",
    "    def start_blinking(self):\n",
    "        self.change_mood('start_blinking')\n",
    "        \n",
    "    def stop_blinking(self):\n",
    "        self.change_mood('stopt_blinking')\n",
    "        \n",
    "    def status_listening(self):\n",
    "        self.change_status('listening')\n",
    "        \n",
    "    def status_thinking(self):\n",
    "        self.change_status('thinking')\n",
    "    \n",
    "    def status_recognizing(self):\n",
    "        self.change_status('Recognizing')\n",
    "    \n",
    "    def status_custom(self, text):\n",
    "        self.change_status(text)\n",
    "    \n",
    "    def status_none(self):\n",
    "        self.change_status('')"
   ]
  },
  {
   "cell_type": "code",
   "execution_count": 45,
   "metadata": {},
   "outputs": [],
   "source": [
    "chatbot = ChatbotFace()"
   ]
  },
  {
   "cell_type": "code",
   "execution_count": 28,
   "metadata": {},
   "outputs": [],
   "source": [
    "chatbot.confused()"
   ]
  },
  {
   "cell_type": "code",
   "execution_count": 29,
   "metadata": {},
   "outputs": [],
   "source": [
    "chatbot.happy()"
   ]
  },
  {
   "cell_type": "code",
   "execution_count": 30,
   "metadata": {},
   "outputs": [],
   "source": [
    "chatbot.status_thinking()"
   ]
  },
  {
   "cell_type": "code",
   "execution_count": 31,
   "metadata": {},
   "outputs": [],
   "source": [
    "chatbot.status_listening()"
   ]
  },
  {
   "cell_type": "code",
   "execution_count": 46,
   "metadata": {},
   "outputs": [],
   "source": [
    "chatbot.status_custom('I\\'m pretty fine, how are you doing?')"
   ]
  },
  {
   "cell_type": "code",
   "execution_count": 33,
   "metadata": {},
   "outputs": [],
   "source": [
    "chatbot.status_none()"
   ]
  },
  {
   "cell_type": "code",
   "execution_count": 34,
   "metadata": {},
   "outputs": [],
   "source": [
    "chatbot.neutral()"
   ]
  },
  {
   "cell_type": "markdown",
   "metadata": {},
   "source": [
    "# Sentiment"
   ]
  },
  {
   "cell_type": "code",
   "execution_count": 35,
   "metadata": {},
   "outputs": [],
   "source": [
    "from sentiments import sentiment_analysis as sent"
   ]
  },
  {
   "cell_type": "code",
   "execution_count": 36,
   "metadata": {},
   "outputs": [
    {
     "name": "stdout",
     "output_type": "stream",
     "text": [
      "Score: {'neg': 0.0, 'neu': 0.588, 'pos': 0.412, 'compound': 0.4215}\n",
      "I've had a nice day today\n",
      "Positive\n"
     ]
    },
    {
     "data": {
      "text/plain": [
       "1"
      ]
     },
     "execution_count": 36,
     "metadata": {},
     "output_type": "execute_result"
    }
   ],
   "source": [
    "# Test\n",
    "sent.sentiment_analysis(\"I've had a nice day today\")"
   ]
  },
  {
   "cell_type": "markdown",
   "metadata": {},
   "source": [
    "## Speech"
   ]
  },
  {
   "cell_type": "code",
   "execution_count": 37,
   "metadata": {},
   "outputs": [],
   "source": [
    "from speech import google_speech as speech"
   ]
  },
  {
   "cell_type": "code",
   "execution_count": 13,
   "metadata": {},
   "outputs": [
    {
     "name": "stdout",
     "output_type": "stream",
     "text": [
      "Listening...\n",
      "Recognizing...\n",
      "hola hola\n"
     ]
    },
    {
     "data": {
      "text/plain": [
       "'hola hola'"
      ]
     },
     "execution_count": 13,
     "metadata": {},
     "output_type": "execute_result"
    }
   ],
   "source": [
    "# Test\n",
    "speech.speech_to_audio(lang=\"en-US\")"
   ]
  },
  {
   "cell_type": "code",
   "execution_count": 38,
   "metadata": {},
   "outputs": [],
   "source": [
    "# Test\n",
    "s = 'what are you saying?? :D'\n",
    "speech.text_to_speech(s, speed=150, voice=1)"
   ]
  },
  {
   "cell_type": "markdown",
   "metadata": {},
   "source": [
    "## Translation"
   ]
  },
  {
   "cell_type": "code",
   "execution_count": 12,
   "metadata": {},
   "outputs": [
    {
     "name": "stdout",
     "output_type": "stream",
     "text": [
      "Hola china \n"
     ]
    }
   ],
   "source": [
    "from google_trans_new import google_translator  \n",
    "translator = google_translator()  \n",
    "translate_text = translator.translate('สวัสดีจีน', lang_tgt='es')  \n",
    "print(translate_text)\n",
    "#output: Hello china"
   ]
  },
  {
   "cell_type": "markdown",
   "metadata": {},
   "source": [
    "# Chatbot"
   ]
  },
  {
   "cell_type": "code",
   "execution_count": 39,
   "metadata": {},
   "outputs": [],
   "source": [
    "import tensorflow\n",
    "import torch\n",
    "from transformers import AutoModelForCausalLM, AutoTokenizer\n",
    "from google_trans_new import google_translator  \n",
    "\n",
    "class Chatbot:\n",
    "    def __init__(self, lang='en'):\n",
    "        print('Loading model and tokenizers...')\n",
    "        self.model = AutoModelForCausalLM.from_pretrained(\"microsoft/DialoGPT-medium\")\n",
    "        self.tokenizer = AutoTokenizer.from_pretrained(\"microsoft/DialoGPT-medium\")\n",
    "        self.face = ChatbotFace()\n",
    "        \n",
    "        self.reset_chatbot(lang=lang)\n",
    "        print('Chatbot ready.')\n",
    "    \n",
    "    def reset_chatbot(self, lang='en'):\n",
    "        self.chat_history_ids = self.tokenizer.encode(self.tokenizer.bos_token, return_tensors='pt')\n",
    "        if lang=='es':\n",
    "            self.voice = 0 # 0: spanish female, 1: english female, 2: english male\n",
    "        else:\n",
    "            self.voice = 1 # 0: spanish female, 1: english female, 2: english male\n",
    "        self.translator = google_translator()  \n",
    "        self.lang = lang\n",
    "        \n",
    "    def listen_and_get_question(self):\n",
    "        self.face.status_listening()\n",
    "        lang = 'en-US' if self.lang=='en' else 'es-ES'\n",
    "        question = speech.speech_to_audio(chatbot_face=self.face)\n",
    "        if self.lang=='es':\n",
    "            question = self.translate(question, lang='en')\n",
    "        self.face.status_none()\n",
    "        return question\n",
    "    \n",
    "    def decode(self, token_ids):\n",
    "        return self.tokenizer.decode(token_ids, skip_special_tokens=True)\n",
    "    \n",
    "    def generate_answer(self, question):\n",
    "        self.face.status_thinking()\n",
    "        question_ids = self.tokenizer.encode(question + self.tokenizer.eos_token, return_tensors='pt')\n",
    "        input_ids = torch.cat([self.chat_history_ids, question_ids], dim=-1)\n",
    "        self.chat_history_ids = self.model.generate(input_ids, max_length=1000, pad_token_id=self.tokenizer.eos_token_id)\n",
    "        answer_ids = self.chat_history_ids[:, input_ids.shape[-1]:][0]\n",
    "        text = self.decode(answer_ids)\n",
    "        if self.lang == 'es':\n",
    "            text = self.translate(text, lang='es')\n",
    "        self.face.status_none()\n",
    "        return text\n",
    "    \n",
    "    def get_sentiment_analysis(self, text):\n",
    "        return True\n",
    "        \n",
    "    def speak(self, text):\n",
    "        self.face.happy()\n",
    "        speech.text_to_speech(text, speed=150, voice=self.voice)\n",
    "        self.face.neutral()\n",
    "        \n",
    "    def translate(self, text, lang):\n",
    "        translated_text = self.translator.translate(text, lang_tgt=lang)\n",
    "        if type(translated_text) == list:\n",
    "            return translated_text[0]\n",
    "        return translated_text\n",
    "    \n",
    "    def no_understand(self):\n",
    "        text = \"Sorry, I couldn't understand you\"\n",
    "        if self.lang == 'es':\n",
    "            text = self.translete(text, lang='es')\n",
    "        self.face.status_custom(text)\n",
    "        self.speak(text)\n",
    "    \n",
    "    def run_chat(self):\n",
    "        self.reset_chatbot(lang=self.lang)\n",
    "        self.face.neutral()\n",
    "        question = ''\n",
    "        while(question != 'goodbye'):\n",
    "            question = self.listen_and_get_question()\n",
    "            if question is None:\n",
    "                print('Fallo')\n",
    "                self.no_understand()\n",
    "                continue\n",
    "            print('Question:', question)\n",
    "            answer = self.generate_answer(question)\n",
    "            print('Answer:', answer)\n",
    "            self.face.status_custom(answer)\n",
    "            self.speak(answer)\n",
    "            \n",
    "#             self.reset_chatbot(lang=self.lang)\n",
    "            print(self.chat_history_ids)\n",
    "        "
   ]
  },
  {
   "cell_type": "code",
   "execution_count": 40,
   "metadata": {},
   "outputs": [
    {
     "name": "stdout",
     "output_type": "stream",
     "text": [
      "Loading model and tokenizers...\n",
      "Chatbot ready.\n"
     ]
    }
   ],
   "source": [
    "chatbot = Chatbot(lang='es')\n",
    "# chatbot.run()"
   ]
  },
  {
   "cell_type": "code",
   "execution_count": 41,
   "metadata": {},
   "outputs": [
    {
     "data": {
      "text/plain": [
       "True"
      ]
     },
     "execution_count": 41,
     "metadata": {},
     "output_type": "execute_result"
    }
   ],
   "source": [
    "import webbrowser as web\n",
    "\n",
    "web.open(URL_INTERFACE)"
   ]
  },
  {
   "cell_type": "code",
   "execution_count": 21,
   "metadata": {},
   "outputs": [],
   "source": [
    "chatbot.reset_chatbot(lang='en')"
   ]
  },
  {
   "cell_type": "code",
   "execution_count": 23,
   "metadata": {},
   "outputs": [
    {
     "name": "stdout",
     "output_type": "stream",
     "text": [
      "Listening...\n",
      "Recognizing...\n",
      "how are you\n",
      "Question: how are you\n",
      "Answer: I'm good, how are you?\n",
      "tensor([[50256,  4919,   389,   345, 50256,    40,  1101,   922,   837,   703,\n",
      "           389,   345,  5633, 50256]])\n",
      "Listening...\n",
      "Recognizing...\n",
      "you are the worst robot ever\n",
      "Question: you are the worst robot ever\n",
      "Answer: I'm not a robot\n",
      "tensor([[50256,  4919,   389,   345, 50256,    40,  1101,   922,   837,   703,\n",
      "           389,   345,  5633, 50256,  5832,   389,   262,  5290,  9379,  1683,\n",
      "         50256,    40,  1101,   407,   257,  9379, 50256]])\n",
      "Listening...\n",
      "Recognizing...\n",
      "bona nit\n",
      "Question: bona nit\n",
      "Answer: I'm not a bot\n",
      "tensor([[50256,  4919,   389,   345, 50256,    40,  1101,   922,   837,   703,\n",
      "           389,   345,  5633, 50256,  5832,   389,   262,  5290,  9379,  1683,\n",
      "         50256,    40,  1101,   407,   257,  9379, 50256,  4189,    64, 13759,\n",
      "         50256,    40,  1101,   407,   257, 10214, 50256]])\n",
      "Listening...\n",
      "Recognizing...\n",
      "Could not understand audio\n",
      "Fallo\n",
      "Listening...\n",
      "Recognizing...\n",
      "usat\n",
      "Question: usat\n",
      "Answer: I'm not a bot\n",
      "tensor([[50256,  4919,   389,   345, 50256,    40,  1101,   922,   837,   703,\n",
      "           389,   345,  5633, 50256,  5832,   389,   262,  5290,  9379,  1683,\n",
      "         50256,    40,  1101,   407,   257,  9379, 50256,  4189,    64, 13759,\n",
      "         50256,    40,  1101,   407,   257, 10214, 50256, 37937, 50256,    40,\n",
      "          1101,   407,   257, 10214, 50256]])\n",
      "Listening...\n",
      "Recognizing...\n",
      "signo parlamento para roomba un robot\n",
      "Question: signo parlamento para roomba un robot\n",
      "Answer: I'm not a bot\n",
      "tensor([[50256,  4919,   389,   345, 50256,    40,  1101,   922,   837,   703,\n",
      "           389,   345,  5633, 50256,  5832,   389,   262,  5290,  9379,  1683,\n",
      "         50256,    40,  1101,   407,   257,  9379, 50256,  4189,    64, 13759,\n",
      "         50256,    40,  1101,   407,   257, 10214, 50256, 37937, 50256,    40,\n",
      "          1101,   407,   257, 10214, 50256, 12683,    78,  1582,  2543, 50217,\n",
      "         31215,  2119,  7012,   555,  9379, 50256,    40,  1101,   407,   257,\n",
      "         10214, 50256]])\n",
      "Listening...\n",
      "Recognizing...\n",
      "cacho di merda\n",
      "Question: cacho di merda\n",
      "Answer: I'm not a bot\n",
      "tensor([[50256,  4919,   389,   345, 50256,    40,  1101,   922,   837,   703,\n",
      "           389,   345,  5633, 50256,  5832,   389,   262,  5290,  9379,  1683,\n",
      "         50256,    40,  1101,   407,   257,  9379, 50256,  4189,    64, 13759,\n",
      "         50256,    40,  1101,   407,   257, 10214, 50256, 37937, 50256,    40,\n",
      "          1101,   407,   257, 10214, 50256, 12683,    78,  1582,  2543, 50217,\n",
      "         31215,  2119,  7012,   555,  9379, 50256,    40,  1101,   407,   257,\n",
      "         10214, 50256,    66, 43703,  2566,  4017,  6814, 50256,    40,  1101,\n",
      "           407,   257, 10214, 50256]])\n",
      "Listening...\n",
      "Recognizing...\n",
      "verdad\n",
      "Question: verdad\n",
      "Answer: I'm not a bot\n",
      "tensor([[50256,  4919,   389,   345, 50256,    40,  1101,   922,   837,   703,\n",
      "           389,   345,  5633, 50256,  5832,   389,   262,  5290,  9379,  1683,\n",
      "         50256,    40,  1101,   407,   257,  9379, 50256,  4189,    64, 13759,\n",
      "         50256,    40,  1101,   407,   257, 10214, 50256, 37937, 50256,    40,\n",
      "          1101,   407,   257, 10214, 50256, 12683,    78,  1582,  2543, 50217,\n",
      "         31215,  2119,  7012,   555,  9379, 50256,    40,  1101,   407,   257,\n",
      "         10214, 50256,    66, 43703,  2566,  4017,  6814, 50256,    40,  1101,\n",
      "           407,   257, 10214, 50256,   332, 47984, 50256,    40,  1101,   407,\n",
      "           257, 10214, 50256]])\n",
      "Listening...\n",
      "Recognizing...\n",
      "tedeman access vale en el don es tema te vale\n",
      "Question: tedeman access vale en el don es tema te vale\n",
      "Answer: \n",
      "tensor([[50256,  4919,   389,   345, 50256,    40,  1101,   922,   837,   703,\n",
      "           389,   345,  5633, 50256,  5832,   389,   262,  5290,  9379,  1683,\n",
      "         50256,    40,  1101,   407,   257,  9379, 50256,  4189,    64, 13759,\n",
      "         50256,    40,  1101,   407,   257, 10214, 50256, 37937, 50256,    40,\n",
      "          1101,   407,   257, 10214, 50256, 12683,    78,  1582,  2543, 50217,\n",
      "         31215,  2119,  7012,   555,  9379, 50256,    40,  1101,   407,   257,\n",
      "         10214, 50256,    66, 43703,  2566,  4017,  6814, 50256,    40,  1101,\n",
      "           407,   257, 10214, 50256,   332, 47984, 50256,    40,  1101,   407,\n",
      "           257, 10214, 50256,  1513,  8463,  1895,   410,  1000,   551,  1288,\n",
      "           836,  1658,  2169,    64,   573,   410,  1000, 50256, 50256]])\n",
      "Listening...\n",
      "Recognizing...\n",
      "solicitar acceso a editar vale\n",
      "Question: solicitar acceso a editar vale\n",
      "Answer: \n",
      "tensor([[50256,  4919,   389,   345, 50256,    40,  1101,   922,   837,   703,\n",
      "           389,   345,  5633, 50256,  5832,   389,   262,  5290,  9379,  1683,\n",
      "         50256,    40,  1101,   407,   257,  9379, 50256,  4189,    64, 13759,\n",
      "         50256,    40,  1101,   407,   257, 10214, 50256, 37937, 50256,    40,\n",
      "          1101,   407,   257, 10214, 50256, 12683,    78,  1582,  2543, 50217,\n",
      "         31215,  2119,  7012,   555,  9379, 50256,    40,  1101,   407,   257,\n",
      "         10214, 50256,    66, 43703,  2566,  4017,  6814, 50256,    40,  1101,\n",
      "           407,   257, 10214, 50256,   332, 47984, 50256,    40,  1101,   407,\n",
      "           257, 10214, 50256,  1513,  8463,  1895,   410,  1000,   551,  1288,\n",
      "           836,  1658,  2169,    64,   573,   410,  1000, 50256, 50256, 34453,\n",
      "          3628,   283,   697,   274,    78,   257,  4370,   283,   410,  1000,\n",
      "         50256, 50256]])\n",
      "Listening...\n",
      "Recognizing...\n",
      "danonino\n",
      "Question: danonino\n",
      "Answer: \n",
      "tensor([[50256,  4919,   389,   345, 50256,    40,  1101,   922,   837,   703,\n",
      "           389,   345,  5633, 50256,  5832,   389,   262,  5290,  9379,  1683,\n",
      "         50256,    40,  1101,   407,   257,  9379, 50256,  4189,    64, 13759,\n",
      "         50256,    40,  1101,   407,   257, 10214, 50256, 37937, 50256,    40,\n",
      "          1101,   407,   257, 10214, 50256, 12683,    78,  1582,  2543, 50217,\n",
      "         31215,  2119,  7012,   555,  9379, 50256,    40,  1101,   407,   257,\n",
      "         10214, 50256,    66, 43703,  2566,  4017,  6814, 50256,    40,  1101,\n",
      "           407,   257, 10214, 50256,   332, 47984, 50256,    40,  1101,   407,\n",
      "           257, 10214, 50256,  1513,  8463,  1895,   410,  1000,   551,  1288,\n",
      "           836,  1658,  2169,    64,   573,   410,  1000, 50256, 50256, 34453,\n",
      "          3628,   283,   697,   274,    78,   257,  4370,   283,   410,  1000,\n",
      "         50256, 50256, 25604,   261,  2879, 50256, 50256]])\n",
      "Listening...\n",
      "Recognizing...\n",
      "Could not understand audio\n",
      "Fallo\n",
      "Listening...\n"
     ]
    },
    {
     "ename": "KeyboardInterrupt",
     "evalue": "",
     "output_type": "error",
     "traceback": [
      "\u001b[1;31m---------------------------------------------------------------------------\u001b[0m",
      "\u001b[1;31mKeyboardInterrupt\u001b[0m                         Traceback (most recent call last)",
      "\u001b[1;32m<ipython-input-23-946a6090c472>\u001b[0m in \u001b[0;36m<module>\u001b[1;34m\u001b[0m\n\u001b[1;32m----> 1\u001b[1;33m \u001b[0mchatbot\u001b[0m\u001b[1;33m.\u001b[0m\u001b[0mrun_chat\u001b[0m\u001b[1;33m(\u001b[0m\u001b[1;33m)\u001b[0m\u001b[1;33m\u001b[0m\u001b[1;33m\u001b[0m\u001b[0m\n\u001b[0m",
      "\u001b[1;32m<ipython-input-20-8ce452d4cd4a>\u001b[0m in \u001b[0;36mrun_chat\u001b[1;34m(self)\u001b[0m\n\u001b[0;32m     73\u001b[0m         \u001b[0mquestion\u001b[0m \u001b[1;33m=\u001b[0m \u001b[1;34m''\u001b[0m\u001b[1;33m\u001b[0m\u001b[1;33m\u001b[0m\u001b[0m\n\u001b[0;32m     74\u001b[0m         \u001b[1;32mwhile\u001b[0m\u001b[1;33m(\u001b[0m\u001b[0mquestion\u001b[0m \u001b[1;33m!=\u001b[0m \u001b[1;34m'goodbye'\u001b[0m\u001b[1;33m)\u001b[0m\u001b[1;33m:\u001b[0m\u001b[1;33m\u001b[0m\u001b[1;33m\u001b[0m\u001b[0m\n\u001b[1;32m---> 75\u001b[1;33m             \u001b[0mquestion\u001b[0m \u001b[1;33m=\u001b[0m \u001b[0mself\u001b[0m\u001b[1;33m.\u001b[0m\u001b[0mlisten_and_get_question\u001b[0m\u001b[1;33m(\u001b[0m\u001b[1;33m)\u001b[0m\u001b[1;33m\u001b[0m\u001b[1;33m\u001b[0m\u001b[0m\n\u001b[0m\u001b[0;32m     76\u001b[0m             \u001b[1;32mif\u001b[0m \u001b[0mquestion\u001b[0m \u001b[1;32mis\u001b[0m \u001b[1;32mNone\u001b[0m\u001b[1;33m:\u001b[0m\u001b[1;33m\u001b[0m\u001b[1;33m\u001b[0m\u001b[0m\n\u001b[0;32m     77\u001b[0m                 \u001b[0mprint\u001b[0m\u001b[1;33m(\u001b[0m\u001b[1;34m'Fallo'\u001b[0m\u001b[1;33m)\u001b[0m\u001b[1;33m\u001b[0m\u001b[1;33m\u001b[0m\u001b[0m\n",
      "\u001b[1;32m<ipython-input-20-8ce452d4cd4a>\u001b[0m in \u001b[0;36mlisten_and_get_question\u001b[1;34m(self)\u001b[0m\n\u001b[0;32m     26\u001b[0m         \u001b[0mself\u001b[0m\u001b[1;33m.\u001b[0m\u001b[0mface\u001b[0m\u001b[1;33m.\u001b[0m\u001b[0mstatus_listening\u001b[0m\u001b[1;33m(\u001b[0m\u001b[1;33m)\u001b[0m\u001b[1;33m\u001b[0m\u001b[1;33m\u001b[0m\u001b[0m\n\u001b[0;32m     27\u001b[0m         \u001b[0mlang\u001b[0m \u001b[1;33m=\u001b[0m \u001b[1;34m'en-US'\u001b[0m \u001b[1;32mif\u001b[0m \u001b[0mself\u001b[0m\u001b[1;33m.\u001b[0m\u001b[0mlang\u001b[0m\u001b[1;33m==\u001b[0m\u001b[1;34m'en'\u001b[0m \u001b[1;32melse\u001b[0m \u001b[1;34m'es-ES'\u001b[0m\u001b[1;33m\u001b[0m\u001b[1;33m\u001b[0m\u001b[0m\n\u001b[1;32m---> 28\u001b[1;33m         \u001b[0mquestion\u001b[0m \u001b[1;33m=\u001b[0m \u001b[0mspeech\u001b[0m\u001b[1;33m.\u001b[0m\u001b[0mspeech_to_audio\u001b[0m\u001b[1;33m(\u001b[0m\u001b[0mchatbot_face\u001b[0m\u001b[1;33m=\u001b[0m\u001b[0mself\u001b[0m\u001b[1;33m.\u001b[0m\u001b[0mface\u001b[0m\u001b[1;33m)\u001b[0m\u001b[1;33m\u001b[0m\u001b[1;33m\u001b[0m\u001b[0m\n\u001b[0m\u001b[0;32m     29\u001b[0m         \u001b[1;32mif\u001b[0m \u001b[0mself\u001b[0m\u001b[1;33m.\u001b[0m\u001b[0mlang\u001b[0m\u001b[1;33m==\u001b[0m\u001b[1;34m'es'\u001b[0m\u001b[1;33m:\u001b[0m\u001b[1;33m\u001b[0m\u001b[1;33m\u001b[0m\u001b[0m\n\u001b[0;32m     30\u001b[0m             \u001b[0mquestion\u001b[0m \u001b[1;33m=\u001b[0m \u001b[0mself\u001b[0m\u001b[1;33m.\u001b[0m\u001b[0mtranslate\u001b[0m\u001b[1;33m(\u001b[0m\u001b[0mquestion\u001b[0m\u001b[1;33m,\u001b[0m \u001b[0mlang\u001b[0m\u001b[1;33m=\u001b[0m\u001b[1;34m'en'\u001b[0m\u001b[1;33m)\u001b[0m\u001b[1;33m\u001b[0m\u001b[1;33m\u001b[0m\u001b[0m\n",
      "\u001b[1;32m~\\Workspace\\Master\\CIR\\Final Project\\MAI-CIR\\speech\\google_speech.py\u001b[0m in \u001b[0;36mspeech_to_audio\u001b[1;34m(lang, chatbot_face)\u001b[0m\n\u001b[0;32m     17\u001b[0m         \u001b[0mprint\u001b[0m\u001b[1;33m(\u001b[0m\u001b[1;34m\"Listening...\"\u001b[0m\u001b[1;33m)\u001b[0m\u001b[1;33m\u001b[0m\u001b[1;33m\u001b[0m\u001b[0m\n\u001b[0;32m     18\u001b[0m         \u001b[0mrecognizer\u001b[0m\u001b[1;33m.\u001b[0m\u001b[0madjust_for_ambient_noise\u001b[0m\u001b[1;33m(\u001b[0m\u001b[0msource\u001b[0m\u001b[1;33m)\u001b[0m\u001b[1;33m\u001b[0m\u001b[1;33m\u001b[0m\u001b[0m\n\u001b[1;32m---> 19\u001b[1;33m         \u001b[0maudio\u001b[0m \u001b[1;33m=\u001b[0m \u001b[0mrecognizer\u001b[0m\u001b[1;33m.\u001b[0m\u001b[0mlisten\u001b[0m\u001b[1;33m(\u001b[0m\u001b[0msource\u001b[0m\u001b[1;33m)\u001b[0m\u001b[1;33m\u001b[0m\u001b[1;33m\u001b[0m\u001b[0m\n\u001b[0m\u001b[0;32m     20\u001b[0m         \u001b[1;32mtry\u001b[0m\u001b[1;33m:\u001b[0m\u001b[1;33m\u001b[0m\u001b[1;33m\u001b[0m\u001b[0m\n\u001b[0;32m     21\u001b[0m             \u001b[0mprint\u001b[0m\u001b[1;33m(\u001b[0m\u001b[1;34m\"Recognizing...\"\u001b[0m\u001b[1;33m)\u001b[0m\u001b[1;33m\u001b[0m\u001b[1;33m\u001b[0m\u001b[0m\n",
      "\u001b[1;32m~\\anaconda3\\envs\\tf_gpu\\lib\\site-packages\\speech_recognition\\__init__.py\u001b[0m in \u001b[0;36mlisten\u001b[1;34m(self, source, timeout, phrase_time_limit, snowboy_configuration)\u001b[0m\n\u001b[0;32m    650\u001b[0m                     \u001b[1;32mbreak\u001b[0m\u001b[1;33m\u001b[0m\u001b[1;33m\u001b[0m\u001b[0m\n\u001b[0;32m    651\u001b[0m \u001b[1;33m\u001b[0m\u001b[0m\n\u001b[1;32m--> 652\u001b[1;33m                 \u001b[0mbuffer\u001b[0m \u001b[1;33m=\u001b[0m \u001b[0msource\u001b[0m\u001b[1;33m.\u001b[0m\u001b[0mstream\u001b[0m\u001b[1;33m.\u001b[0m\u001b[0mread\u001b[0m\u001b[1;33m(\u001b[0m\u001b[0msource\u001b[0m\u001b[1;33m.\u001b[0m\u001b[0mCHUNK\u001b[0m\u001b[1;33m)\u001b[0m\u001b[1;33m\u001b[0m\u001b[1;33m\u001b[0m\u001b[0m\n\u001b[0m\u001b[0;32m    653\u001b[0m                 \u001b[1;32mif\u001b[0m \u001b[0mlen\u001b[0m\u001b[1;33m(\u001b[0m\u001b[0mbuffer\u001b[0m\u001b[1;33m)\u001b[0m \u001b[1;33m==\u001b[0m \u001b[1;36m0\u001b[0m\u001b[1;33m:\u001b[0m \u001b[1;32mbreak\u001b[0m  \u001b[1;31m# reached end of the stream\u001b[0m\u001b[1;33m\u001b[0m\u001b[1;33m\u001b[0m\u001b[0m\n\u001b[0;32m    654\u001b[0m                 \u001b[0mframes\u001b[0m\u001b[1;33m.\u001b[0m\u001b[0mappend\u001b[0m\u001b[1;33m(\u001b[0m\u001b[0mbuffer\u001b[0m\u001b[1;33m)\u001b[0m\u001b[1;33m\u001b[0m\u001b[1;33m\u001b[0m\u001b[0m\n",
      "\u001b[1;32m~\\anaconda3\\envs\\tf_gpu\\lib\\site-packages\\speech_recognition\\__init__.py\u001b[0m in \u001b[0;36mread\u001b[1;34m(self, size)\u001b[0m\n\u001b[0;32m    159\u001b[0m \u001b[1;33m\u001b[0m\u001b[0m\n\u001b[0;32m    160\u001b[0m         \u001b[1;32mdef\u001b[0m \u001b[0mread\u001b[0m\u001b[1;33m(\u001b[0m\u001b[0mself\u001b[0m\u001b[1;33m,\u001b[0m \u001b[0msize\u001b[0m\u001b[1;33m)\u001b[0m\u001b[1;33m:\u001b[0m\u001b[1;33m\u001b[0m\u001b[1;33m\u001b[0m\u001b[0m\n\u001b[1;32m--> 161\u001b[1;33m             \u001b[1;32mreturn\u001b[0m \u001b[0mself\u001b[0m\u001b[1;33m.\u001b[0m\u001b[0mpyaudio_stream\u001b[0m\u001b[1;33m.\u001b[0m\u001b[0mread\u001b[0m\u001b[1;33m(\u001b[0m\u001b[0msize\u001b[0m\u001b[1;33m,\u001b[0m \u001b[0mexception_on_overflow\u001b[0m\u001b[1;33m=\u001b[0m\u001b[1;32mFalse\u001b[0m\u001b[1;33m)\u001b[0m\u001b[1;33m\u001b[0m\u001b[1;33m\u001b[0m\u001b[0m\n\u001b[0m\u001b[0;32m    162\u001b[0m \u001b[1;33m\u001b[0m\u001b[0m\n\u001b[0;32m    163\u001b[0m         \u001b[1;32mdef\u001b[0m \u001b[0mclose\u001b[0m\u001b[1;33m(\u001b[0m\u001b[0mself\u001b[0m\u001b[1;33m)\u001b[0m\u001b[1;33m:\u001b[0m\u001b[1;33m\u001b[0m\u001b[1;33m\u001b[0m\u001b[0m\n",
      "\u001b[1;32m~\\anaconda3\\envs\\tf_gpu\\lib\\site-packages\\pyaudio.py\u001b[0m in \u001b[0;36mread\u001b[1;34m(self, num_frames, exception_on_overflow)\u001b[0m\n\u001b[0;32m    606\u001b[0m                           paCanNotReadFromAnOutputOnlyStream)\n\u001b[0;32m    607\u001b[0m \u001b[1;33m\u001b[0m\u001b[0m\n\u001b[1;32m--> 608\u001b[1;33m         \u001b[1;32mreturn\u001b[0m \u001b[0mpa\u001b[0m\u001b[1;33m.\u001b[0m\u001b[0mread_stream\u001b[0m\u001b[1;33m(\u001b[0m\u001b[0mself\u001b[0m\u001b[1;33m.\u001b[0m\u001b[0m_stream\u001b[0m\u001b[1;33m,\u001b[0m \u001b[0mnum_frames\u001b[0m\u001b[1;33m,\u001b[0m \u001b[0mexception_on_overflow\u001b[0m\u001b[1;33m)\u001b[0m\u001b[1;33m\u001b[0m\u001b[1;33m\u001b[0m\u001b[0m\n\u001b[0m\u001b[0;32m    609\u001b[0m \u001b[1;33m\u001b[0m\u001b[0m\n\u001b[0;32m    610\u001b[0m     \u001b[1;32mdef\u001b[0m \u001b[0mget_read_available\u001b[0m\u001b[1;33m(\u001b[0m\u001b[0mself\u001b[0m\u001b[1;33m)\u001b[0m\u001b[1;33m:\u001b[0m\u001b[1;33m\u001b[0m\u001b[1;33m\u001b[0m\u001b[0m\n",
      "\u001b[1;31mKeyboardInterrupt\u001b[0m: "
     ]
    }
   ],
   "source": [
    "chatbot.run_chat()"
   ]
  },
  {
   "cell_type": "code",
   "execution_count": null,
   "metadata": {},
   "outputs": [],
   "source": []
  }
 ],
 "metadata": {
  "kernelspec": {
   "display_name": "Python 3",
   "language": "python",
   "name": "python3"
  },
  "language_info": {
   "codemirror_mode": {
    "name": "ipython",
    "version": 3
   },
   "file_extension": ".py",
   "mimetype": "text/x-python",
   "name": "python",
   "nbconvert_exporter": "python",
   "pygments_lexer": "ipython3",
   "version": "3.7.9"
  }
 },
 "nbformat": 4,
 "nbformat_minor": 4
}
