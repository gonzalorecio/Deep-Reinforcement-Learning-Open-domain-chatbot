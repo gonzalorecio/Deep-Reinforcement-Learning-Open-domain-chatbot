{
 "cells": [
  {
   "cell_type": "markdown",
   "metadata": {},
   "source": [
    "# Chatbot "
   ]
  },
  {
   "cell_type": "markdown",
   "metadata": {},
   "source": [
    "Web-based interface of the chatbot interface: https://gonzalorecio.com/chatbot/robot.html"
   ]
  },
  {
   "cell_type": "code",
   "execution_count": 1,
   "metadata": {},
   "outputs": [],
   "source": [
    "import requests\n",
    "URL_INTERFACE = 'https://gonzalorecio.com/chatbot/robot.html'"
   ]
  },
  {
   "cell_type": "code",
   "execution_count": 2,
   "metadata": {},
   "outputs": [],
   "source": [
    "class ChatbotFace:\n",
    "    chatbot_mood_API   = 'https://chatbot-mood.herokuapp.com/mood'\n",
    "    chatbot_status_API = 'https://chatbot-mood.herokuapp.com/internal_state'\n",
    "\n",
    "    def change_mood(self, mood):\n",
    "        req_obj = {'action': mood}\n",
    "        x = requests.post(self.chatbot_mood_API, data = req_obj)\n",
    "        # print(x)\n",
    "        \n",
    "    def change_status(self, status):\n",
    "        req_obj = {'status': status}\n",
    "        x = requests.post(self.chatbot_status_API, data = req_obj)\n",
    "        \n",
    "    def neutral(self):\n",
    "        self.change_mood('neutral')\n",
    "        \n",
    "    def happy(self):\n",
    "        self.change_mood('happy')\n",
    "        \n",
    "    def sad(self):\n",
    "        self.change_mood('sad')\n",
    "        \n",
    "    def angry(self):\n",
    "        self.change_mood('angry')\n",
    "        \n",
    "    def focused(self):\n",
    "        self.change_mood('focused')\n",
    "        \n",
    "    def confused(self):\n",
    "        self.change_mood('confused')\n",
    "    \n",
    "    def start_blinking(self):\n",
    "        self.change_mood('start_blinking')\n",
    "        \n",
    "    def stop_blinking(self):\n",
    "        self.change_mood('stopt_blinking')\n",
    "        \n",
    "    def status_listening(self):\n",
    "        self.change_status('listening')\n",
    "        \n",
    "    def status_thinking(self):\n",
    "        self.change_status('thinking')\n",
    "    \n",
    "    def status_recognizing(self):\n",
    "        self.change_status('Recognizing')\n",
    "    \n",
    "    def status_custom(self, text):\n",
    "        self.change_status(text)\n",
    "    \n",
    "    def status_none(self):\n",
    "        self.change_status('')"
   ]
  },
  {
   "cell_type": "code",
   "execution_count": 3,
   "metadata": {},
   "outputs": [],
   "source": [
    "chatbot = ChatbotFace()"
   ]
  },
  {
   "cell_type": "code",
   "execution_count": 4,
   "metadata": {},
   "outputs": [],
   "source": [
    "chatbot.confused()"
   ]
  },
  {
   "cell_type": "code",
   "execution_count": 5,
   "metadata": {},
   "outputs": [],
   "source": [
    "chatbot.happy()"
   ]
  },
  {
   "cell_type": "code",
   "execution_count": 6,
   "metadata": {},
   "outputs": [],
   "source": [
    "chatbot.status_thinking()"
   ]
  },
  {
   "cell_type": "code",
   "execution_count": 7,
   "metadata": {},
   "outputs": [],
   "source": [
    "chatbot.status_listening()"
   ]
  },
  {
   "cell_type": "code",
   "execution_count": 8,
   "metadata": {},
   "outputs": [],
   "source": [
    "chatbot.status_custom('bon diaaaaa')"
   ]
  },
  {
   "cell_type": "code",
   "execution_count": 10,
   "metadata": {},
   "outputs": [],
   "source": [
    "chatbot.status_none()"
   ]
  },
  {
   "cell_type": "code",
   "execution_count": 9,
   "metadata": {},
   "outputs": [],
   "source": [
    "chatbot.neutral()"
   ]
  },
  {
   "cell_type": "markdown",
   "metadata": {},
   "source": [
    "# Sentiment"
   ]
  },
  {
   "cell_type": "code",
   "execution_count": 13,
   "metadata": {},
   "outputs": [
    {
     "name": "stdout",
     "output_type": "stream",
     "text": [
      "Score: {'neg': 0.4, 'neu': 0.408, 'pos': 0.192, 'compound': -0.5499}\n",
      "I am happy but today my mom died\n",
      "Negative\n"
     ]
    },
    {
     "name": "stderr",
     "output_type": "stream",
     "text": [
      "[nltk_data] Downloading package vader_lexicon to\n",
      "[nltk_data]     C:\\Users\\gonre\\AppData\\Roaming\\nltk_data...\n",
      "[nltk_data]   Package vader_lexicon is already up-to-date!\n",
      "[nltk_data] Downloading package stopwords to\n",
      "[nltk_data]     C:\\Users\\gonre\\AppData\\Roaming\\nltk_data...\n",
      "[nltk_data]   Package stopwords is already up-to-date!\n",
      "[nltk_data] Downloading package averaged_perceptron_tagger to\n",
      "[nltk_data]     C:\\Users\\gonre\\AppData\\Roaming\\nltk_data...\n",
      "[nltk_data]   Package averaged_perceptron_tagger is already up-to-\n",
      "[nltk_data]       date!\n",
      "[nltk_data] Downloading package wordnet to\n",
      "[nltk_data]     C:\\Users\\gonre\\AppData\\Roaming\\nltk_data...\n",
      "[nltk_data]   Package wordnet is already up-to-date!\n"
     ]
    }
   ],
   "source": [
    "from sentiments import sentiment_analysis as sent"
   ]
  },
  {
   "cell_type": "code",
   "execution_count": 12,
   "metadata": {},
   "outputs": [
    {
     "name": "stdout",
     "output_type": "stream",
     "text": [
      "Score: {'neg': 0.0, 'neu': 0.588, 'pos': 0.412, 'compound': 0.4215}\n",
      "I've had a nice day today\n",
      "Positive\n"
     ]
    },
    {
     "data": {
      "text/plain": [
       "1"
      ]
     },
     "execution_count": 12,
     "metadata": {},
     "output_type": "execute_result"
    }
   ],
   "source": [
    "# Test\n",
    "sent.sentiment_analysis(\"I've had a nice day today\")"
   ]
  },
  {
   "cell_type": "markdown",
   "metadata": {},
   "source": [
    "## Speech"
   ]
  },
  {
   "cell_type": "code",
   "execution_count": 11,
   "metadata": {},
   "outputs": [],
   "source": [
    "from speech import google_speech as speech"
   ]
  },
  {
   "cell_type": "code",
   "execution_count": 13,
   "metadata": {},
   "outputs": [
    {
     "name": "stdout",
     "output_type": "stream",
     "text": [
      "Listening...\n",
      "Recognizing...\n",
      "hola hola\n"
     ]
    },
    {
     "data": {
      "text/plain": [
       "'hola hola'"
      ]
     },
     "execution_count": 13,
     "metadata": {},
     "output_type": "execute_result"
    }
   ],
   "source": [
    "# Test\n",
    "speech.speech_to_audio(lang=\"en-US\")"
   ]
  },
  {
   "cell_type": "code",
   "execution_count": 14,
   "metadata": {},
   "outputs": [],
   "source": [
    "# Test\n",
    "s = 'what are you saying?? :D'\n",
    "speech.text_to_speech(s, speed=150, voice=1)"
   ]
  },
  {
   "cell_type": "markdown",
   "metadata": {},
   "source": [
    "## Translation"
   ]
  },
  {
   "cell_type": "code",
   "execution_count": 12,
   "metadata": {},
   "outputs": [
    {
     "name": "stdout",
     "output_type": "stream",
     "text": [
      "Hola china \n"
     ]
    }
   ],
   "source": [
    "from google_trans_new import google_translator  \n",
    "translator = google_translator()  \n",
    "translate_text = translator.translate('สวัสดีจีน', lang_tgt='es')  \n",
    "print(translate_text)\n",
    "#output: Hello china"
   ]
  },
  {
   "cell_type": "markdown",
   "metadata": {},
   "source": [
    "# Chatbot"
   ]
  },
  {
   "cell_type": "code",
   "execution_count": 20,
   "metadata": {},
   "outputs": [],
   "source": [
    "import tensorflow\n",
    "import torch\n",
    "from transformers import AutoModelForCausalLM, AutoTokenizer\n",
    "from google_trans_new import google_translator  \n",
    "\n",
    "class Chatbot:\n",
    "    def __init__(self, lang='en'):\n",
    "        print('Loading model and tokenizers...')\n",
    "        self.model = AutoModelForCausalLM.from_pretrained(\"microsoft/DialoGPT-medium\")\n",
    "        self.tokenizer = AutoTokenizer.from_pretrained(\"microsoft/DialoGPT-medium\")\n",
    "        self.face = ChatbotFace()\n",
    "        \n",
    "        self.reset_chatbot(lang=lang)\n",
    "        print('Chatbot ready.')\n",
    "    \n",
    "    def reset_chatbot(self, lang='en'):\n",
    "        self.chat_history_ids = self.tokenizer.encode(self.tokenizer.bos_token, return_tensors='pt')\n",
    "        if lang=='es':\n",
    "            self.voice = 0 # 0: spanish female, 1: english female, 2: english male\n",
    "        else:\n",
    "            self.voice = 1 # 0: spanish female, 1: english female, 2: english male\n",
    "        self.translator = google_translator()  \n",
    "        self.lang = lang\n",
    "        \n",
    "    def listen_and_get_question(self):\n",
    "        self.face.status_listening()\n",
    "        lang = 'en-US' if self.lang=='en' else 'es-ES'\n",
    "        question = speech.speech_to_audio(chatbot_face=self.face)\n",
    "        if self.lang=='es':\n",
    "            question = self.translate(question, lang='en')\n",
    "        self.face.status_none()\n",
    "        return question\n",
    "    \n",
    "    def decode(self, token_ids):\n",
    "        return self.tokenizer.decode(token_ids, skip_special_tokens=True)\n",
    "    \n",
    "    def generate_answer(self, question):\n",
    "        self.face.status_thinking()\n",
    "        question_ids = self.tokenizer.encode(question + self.tokenizer.eos_token, return_tensors='pt')\n",
    "        input_ids = torch.cat([self.chat_history_ids, question_ids], dim=-1)\n",
    "        self.chat_history_ids = self.model.generate(input_ids, max_length=1000, pad_token_id=self.tokenizer.eos_token_id)\n",
    "        answer_ids = self.chat_history_ids[:, input_ids.shape[-1]:][0]\n",
    "        text = self.decode(answer_ids)\n",
    "        if self.lang == 'es':\n",
    "            text = self.translate(text, lang='es')\n",
    "        self.face.status_none()\n",
    "        return text\n",
    "    \n",
    "    def get_sentiment_analysis(self, text):\n",
    "        return True\n",
    "        \n",
    "    def speak(self, text):\n",
    "        self.face.happy()\n",
    "        speech.text_to_speech(text, speed=150, voice=self.voice)\n",
    "        self.face.neutral()\n",
    "        \n",
    "    def translate(self, text, lang):\n",
    "        translated_text = self.translator.translate(text, lang_tgt=lang)\n",
    "        if type(translated_text) == list:\n",
    "            return translated_text[0]\n",
    "        return translated_text\n",
    "    \n",
    "    def no_understand(self):\n",
    "        text = \"Sorry, I couldn't understand you\"\n",
    "        if self.lang == 'es':\n",
    "            text = self.translete(text, lang='es')\n",
    "        self.face.status_custom(text)\n",
    "        self.speak(text)\n",
    "    \n",
    "    def run_chat(self):\n",
    "        self.reset_chatbot(lang=self.lang)\n",
    "        self.face.neutral()\n",
    "        question = ''\n",
    "        while(question != 'goodbye'):\n",
    "            question = self.listen_and_get_question()\n",
    "            if question is None:\n",
    "                print('Fallo')\n",
    "                self.no_understand()\n",
    "                continue\n",
    "            print('Question:', question)\n",
    "            answer = self.generate_answer(question)\n",
    "            print('Answer:', answer)\n",
    "            self.face.status_custom(answer)\n",
    "            self.speak(answer)\n",
    "            \n",
    "#             self.reset_chatbot(lang=self.lang)\n",
    "            print(self.chat_history_ids)\n",
    "        "
   ]
  },
  {
   "cell_type": "code",
   "execution_count": 21,
   "metadata": {},
   "outputs": [
    {
     "name": "stdout",
     "output_type": "stream",
     "text": [
      "Loading model and tokenizers...\n",
      "Chatbot ready.\n"
     ]
    }
   ],
   "source": [
    "chatbot = Chatbot(lang='en')\n",
    "# chatbot.run()"
   ]
  },
  {
   "cell_type": "code",
   "execution_count": 21,
   "metadata": {},
   "outputs": [],
   "source": [
    "chatbot.reset_chatbot(lang='en')"
   ]
  },
  {
   "cell_type": "code",
   "execution_count": null,
   "metadata": {},
   "outputs": [
    {
     "name": "stdout",
     "output_type": "stream",
     "text": [
      "Listening...\n",
      "Recognizing...\n",
      "hello\n",
      "Question: hello\n",
      "Answer: Hello!\n",
      "tensor([[50256, 31373, 50256, 15496,  5145, 50256]])\n",
      "Listening...\n",
      "Recognizing...\n",
      "huawei\n",
      "Question: huawei\n",
      "Answer: Huawei\n",
      "tensor([[50256, 31373, 50256, 15496,  5145, 50256, 13415, 38247, 50256, 38202,\n",
      "         38247, 50256]])\n",
      "Listening...\n",
      "Recognizing...\n",
      "how are you\n",
      "Question: how are you\n",
      "Answer: I'm good, how are you?\n",
      "tensor([[50256, 31373, 50256, 15496,  5145, 50256, 13415, 38247, 50256, 38202,\n",
      "         38247, 50256,  4919,   389,   345, 50256,    40,  1101,   922,   837,\n",
      "           703,   389,   345,  5633, 50256]])\n",
      "Listening...\n",
      "Recognizing...\n",
      "ampinchu what have you done today\n",
      "Question: ampinchu what have you done today\n",
      "Answer: I'm not sure, I'm not sure.\n",
      "tensor([[50256, 31373, 50256, 15496,  5145, 50256, 13415, 38247, 50256, 38202,\n",
      "         38247, 50256,  4919,   389,   345, 50256,    40,  1101,   922,   837,\n",
      "           703,   389,   345,  5633, 50256,   696,  8589,    84,   644,   423,\n",
      "           345,  1760,  1909, 50256,    40,  1101,   407,  1654,   837,   314,\n",
      "          1101,   407,  1654,   764, 50256]])\n",
      "Listening...\n",
      "Recognizing...\n",
      "alright you like watching movies\n",
      "Question: alright you like watching movies\n",
      "Answer: I'm not sure, I'm not sure.\n",
      "tensor([[50256, 31373, 50256, 15496,  5145, 50256, 13415, 38247, 50256, 38202,\n",
      "         38247, 50256,  4919,   389,   345, 50256,    40,  1101,   922,   837,\n",
      "           703,   389,   345,  5633, 50256,   696,  8589,    84,   644,   423,\n",
      "           345,  1760,  1909, 50256,    40,  1101,   407,  1654,   837,   314,\n",
      "          1101,   407,  1654,   764, 50256,   282,  3506,   345,   588,  4964,\n",
      "          6918, 50256,    40,  1101,   407,  1654,   837,   314,  1101,   407,\n",
      "          1654,   764, 50256]])\n",
      "Listening...\n",
      "Recognizing...\n",
      "Could not understand audio\n",
      "Fallo\n",
      "Listening...\n"
     ]
    }
   ],
   "source": [
    "chatbot.run_chat()"
   ]
  },
  {
   "cell_type": "code",
   "execution_count": null,
   "metadata": {},
   "outputs": [],
   "source": []
  }
 ],
 "metadata": {
  "kernelspec": {
   "display_name": "Python 3",
   "language": "python",
   "name": "python3"
  },
  "language_info": {
   "codemirror_mode": {
    "name": "ipython",
    "version": 3
   },
   "file_extension": ".py",
   "mimetype": "text/x-python",
   "name": "python",
   "nbconvert_exporter": "python",
   "pygments_lexer": "ipython3",
   "version": "3.7.9"
  }
 },
 "nbformat": 4,
 "nbformat_minor": 4
}
